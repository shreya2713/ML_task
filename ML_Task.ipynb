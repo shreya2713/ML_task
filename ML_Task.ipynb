{
 "cells": [
  {
   "cell_type": "code",
   "execution_count": 2,
   "metadata": {},
   "outputs": [
    {
     "name": "stdout",
     "output_type": "stream",
     "text": [
      "Top 3 Most Profitable Products:\n",
      "                                  PROD_NAME  TOT_SALES\n",
      "0          Dorito Corn Chp     Supreme 380g    40352.0\n",
      "1    Smiths Crnkle Chip  Orgnl Big Bag 380g    36367.6\n",
      "2  Smiths Crinkle Chips Salt & Vinegar 330g    34804.2\n",
      "\n",
      "Top 10 Loyal Customers:\n",
      "   LYLTY_CARD_NBR  TOT_SALES\n",
      "0          226000    1300.00\n",
      "1          230078     138.60\n",
      "2           63197     132.80\n",
      "3          259009     127.20\n",
      "4          162039     126.80\n",
      "5           58361     124.80\n",
      "6          230154     124.40\n",
      "7           94185     122.80\n",
      "8          130090     122.65\n",
      "9          179228     120.80\n",
      "\n",
      "Most Preferred Products Among Loyal Customers:\n",
      "                                  PROD_NAME  TOT_SALES\n",
      "0          Dorito Corn Chp     Supreme 380g    1355.25\n",
      "1  Smiths Crinkle Chips Salt & Vinegar 330g      45.60\n",
      "2    Infzns Crn Crnchers Tangy Gcamole 110g      45.60\n",
      "3          Kettle Honey Soy    Chicken 175g      43.20\n",
      "4        Kettle Sensations   BBQ&Maple 150g      36.80\n"
     ]
    }
   ],
   "source": [
    "import pandas as pd\n",
    "\n",
    "# Load the transaction data\n",
    "file_path = r\"C:\\Users\\shrey\\Downloads\\transaction_data.csv\"\n",
    "df = pd.read_csv(file_path)\n",
    "\n",
    "# Identify the top 3 most profitable products\n",
    "top_products = df.groupby(\"PROD_NAME\")[\"TOT_SALES\"].sum().nlargest(3).reset_index()\n",
    "\n",
    "# Identify the most loyal customers (highest total spending)\n",
    "loyal_customers = df.groupby(\"LYLTY_CARD_NBR\")[\"TOT_SALES\"].sum().nlargest(10).reset_index()\n",
    "\n",
    "# Get additional customer characteristics\n",
    "customer_purchases = df.groupby(\"LYLTY_CARD_NBR\").agg(\n",
    "    total_spent=(\"TOT_SALES\", \"sum\"),\n",
    "    total_transactions=(\"TXN_ID\", \"nunique\"),\n",
    "    total_products=(\"PROD_NBR\", \"nunique\")\n",
    ")\n",
    "\n",
    "# Identify the most common products among loyal customers\n",
    "top_loyal_products = df[df[\"LYLTY_CARD_NBR\"].isin(loyal_customers[\"LYLTY_CARD_NBR\"])]\n",
    "loyal_product_pref = top_loyal_products.groupby(\"PROD_NAME\")[\"TOT_SALES\"].sum().nlargest(5).reset_index()\n",
    "\n",
    "# Print results\n",
    "print(\"Top 3 Most Profitable Products:\")\n",
    "print(top_products)\n",
    "\n",
    "print(\"\\nTop 10 Loyal Customers:\")\n",
    "print(loyal_customers)\n",
    "\n",
    "print(\"\\nMost Preferred Products Among Loyal Customers:\")\n",
    "print(loyal_product_pref)\n"
   ]
  }
 ],
 "metadata": {
  "kernelspec": {
   "display_name": "Python 3",
   "language": "python",
   "name": "python3"
  },
  "language_info": {
   "codemirror_mode": {
    "name": "ipython",
    "version": 3
   },
   "file_extension": ".py",
   "mimetype": "text/x-python",
   "name": "python",
   "nbconvert_exporter": "python",
   "pygments_lexer": "ipython3",
   "version": "3.10.11"
  }
 },
 "nbformat": 4,
 "nbformat_minor": 2
}
